{
  "nbformat": 4,
  "nbformat_minor": 0,
  "metadata": {
    "colab": {
      "name": "SimpleLinear.ipynb",
      "provenance": [],
      "mount_file_id": "1cd5vCP7V8gV5VGSss5Bq_8HkQcB_EqsG",
      "authorship_tag": "ABX9TyNZ9OzU5l+G4zpJz8ZTxdzN",
      "include_colab_link": true
    },
    "kernelspec": {
      "name": "python3",
      "display_name": "Python 3"
    },
    "language_info": {
      "name": "python"
    },
    "accelerator": "GPU"
  },
  "cells": [
    {
      "cell_type": "markdown",
      "metadata": {
        "id": "view-in-github",
        "colab_type": "text"
      },
      "source": [
        "<a href=\"https://colab.research.google.com/github/saurabh1mohite/Advanced-Machine-Learning-Coursera/blob/master/SimpleLinear.ipynb\" target=\"_parent\"><img src=\"https://colab.research.google.com/assets/colab-badge.svg\" alt=\"Open In Colab\"/></a>"
      ]
    },
    {
      "cell_type": "code",
      "metadata": {
        "id": "l6gjDWUBn7D-"
      },
      "source": [
        "import os\n",
        "import torch\n",
        "from torch import nn\n",
        "from torch.utils.data import DataLoader\n",
        "from torchvision import datasets, transforms"
      ],
      "execution_count": null,
      "outputs": []
    },
    {
      "cell_type": "code",
      "metadata": {
        "id": "woo8hCiKn8bX"
      },
      "source": [
        "device = 'cuda' if torch.cuda.is_available() else 'cpu'\n",
        "print(f'Using {device} device')"
      ],
      "execution_count": null,
      "outputs": []
    },
    {
      "cell_type": "code",
      "metadata": {
        "id": "kCX3H6_iqNIs"
      },
      "source": [
        "input_1 = torch.load('/content/drive/MyDrive/NLP/Trance/TENSOR/input_1')\n",
        "input_2 = torch.load('/content/drive/MyDrive/NLP/Trance/TENSOR/input_2')\n",
        "outputs = torch.load('/content/drive/MyDrive/NLP/Trance/TENSOR/outputs')\n",
        "input_1.shape, input_2.shape, outputs.shape"
      ],
      "execution_count": null,
      "outputs": []
    },
    {
      "cell_type": "code",
      "metadata": {
        "id": "sruDX5ZcxQQ8"
      },
      "source": [
        "input_1 = torch.split(input_1, 512)\n",
        "input_2 = torch.split(input_2, 512)\n",
        "outputs = torch.split(outputs, 512)\n"
      ],
      "execution_count": null,
      "outputs": []
    },
    {
      "cell_type": "code",
      "metadata": {
        "id": "M_DA05usvru9"
      },
      "source": [
        "input_1[0].shape"
      ],
      "execution_count": null,
      "outputs": []
    },
    {
      "cell_type": "code",
      "metadata": {
        "id": "j30K-wrqtpRi"
      },
      "source": [
        "n = int(len(input_1)*0.9)\n",
        "input_1 = input_1[:n]\n",
        "input_2 = input_2[:n]\n",
        "outputs = outputs[:n]"
      ],
      "execution_count": null,
      "outputs": []
    },
    {
      "cell_type": "code",
      "metadata": {
        "id": "EbHds2pkoAz1"
      },
      "source": [
        "encoder_1 = nn.Sequential(\n",
        "    nn.Linear(input_1[0].shape[1], 512),\n",
        "    nn.ReLU(),\n",
        "    nn.Dropout(0.4),\n",
        "    nn.Linear(512, 256),\n",
        "    nn.ReLU(),\n",
        "    nn.Dropout(0.4),\n",
        "    nn.Linear(256, 64),\n",
        "    nn.ReLU(),\n",
        "    nn.Dropout(0.4),\n",
        ")\n",
        "\n",
        "encoder_2 = nn.Sequential(\n",
        "    nn.Linear(input_2[0].shape[1], 512),\n",
        "    nn.ReLU(),\n",
        "    nn.Dropout(0.4),\n",
        "    nn.Linear(512, 256),\n",
        "    nn.ReLU(),\n",
        "    nn.Dropout(0.4),\n",
        "    nn.Linear(256, 64),\n",
        "    nn.ReLU(),\n",
        "    nn.Dropout(0.4),\n",
        ")\n",
        "\n",
        "decoder = nn.Sequential(\n",
        "    nn.Linear(64, 256),\n",
        "    nn.ReLU(),\n",
        "    nn.Dropout(0.4),\n",
        "    nn.Linear(256, 512),\n",
        "    nn.ReLU(),\n",
        "    nn.Dropout(0.4),\n",
        "    nn.Linear(512, outputs[0].shape[1]),\n",
        "    nn.ReLU()\n",
        ")\n",
        "\n",
        "class Model(nn.Module):\n",
        "    def __init__(self, encoder_1, encoder_2, decoder):\n",
        "        super(Model, self).__init__()\n",
        "        self.encoder_1 = encoder_1\n",
        "        self.encoder_2 = encoder_2\n",
        "        self.decoder = decoder\n",
        "\n",
        "    def forward(self, x_1, x_2):\n",
        "        x_1 = self.encoder_1(x_1)\n",
        "        x_2 = self.encoder_2(x_2)\n",
        "        x = x_1 - x_2\n",
        "        x = decoder(x)\n",
        "        return x"
      ],
      "execution_count": null,
      "outputs": []
    },
    {
      "cell_type": "code",
      "metadata": {
        "id": "vqLFq4ER5JNQ"
      },
      "source": [
        "class RMSELoss(torch.nn.Module):\n",
        "    def __init__(self):\n",
        "        super(RMSELoss,self).__init__()\n",
        "\n",
        "    def forward(self,x,y):\n",
        "        criterion = nn.MSELoss()\n",
        "        loss = torch.sqrt(criterion(x*1000, y))\n",
        "        return loss"
      ],
      "execution_count": null,
      "outputs": []
    },
    {
      "cell_type": "code",
      "metadata": {
        "id": "Oicm7aDPr_5z"
      },
      "source": [
        "# create a model from `AE` autoencoder class\n",
        "# load it to the specified device, either gpu or cpu\n",
        "model = Model(encoder_1, encoder_2, decoder).to(device)\n",
        "\n",
        "# create an optimizer object\n",
        "# Adam optimizer with learning rate 1e-3\n",
        "optimizer = torch.optim.SGD(model.parameters(), lr=1e-2)\n",
        "\n",
        "# mean-squared error loss\n",
        "criterion = RMSELoss()"
      ],
      "execution_count": null,
      "outputs": []
    },
    {
      "cell_type": "code",
      "metadata": {
        "id": "L5iBd_knwJWJ"
      },
      "source": [
        "model.to(device)\n",
        "# input_1 = input_1.to(device)\n",
        "# input_2 = input_2.to(device)\n",
        "# outputs = outputs.to(device)"
      ],
      "execution_count": null,
      "outputs": []
    },
    {
      "cell_type": "code",
      "metadata": {
        "id": "Nge3kDGOsTu6"
      },
      "source": [
        "from tqdm.notebook import tqdm\n",
        "EPOCHS = 75000\n",
        "for epoch in tqdm(range(EPOCHS)):\n",
        "    running_loss = 0\n",
        "    ctr = 0\n",
        "    for x_1, x_2, o in zip(input_1, input_2, outputs):\n",
        "        ctr += 1\n",
        "        optimizer.zero_grad()\n",
        "        x_1 = x_1.to(device)\n",
        "        x_2 = x_2.to(device)\n",
        "        o = o.to(device)\n",
        "        pred = model(x_1, x_2)\n",
        "        loss = criterion(pred, o)\n",
        "        loss.backward()\n",
        "        optimizer.step()\n",
        "        running_loss += loss.item()\n",
        "    if epoch % 100 == 0:\n",
        "        running_loss = running_loss/(len(input_1)*100)\n",
        "        print(running_loss)"
      ],
      "execution_count": null,
      "outputs": []
    },
    {
      "cell_type": "code",
      "metadata": {
        "id": "OnGlKR36ukNQ"
      },
      "source": [
        ""
      ],
      "execution_count": null,
      "outputs": []
    }
  ]
}